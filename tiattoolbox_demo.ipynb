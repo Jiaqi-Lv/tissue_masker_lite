{
 "cells": [
  {
   "cell_type": "markdown",
   "metadata": {},
   "source": [
    "Tissue mask using this model"
   ]
  },
  {
   "cell_type": "code",
   "execution_count": null,
   "metadata": {},
   "outputs": [],
   "source": [
    "from tiatoolbox.wsicore.wsireader import WSIReader\n",
    "from tissue_masker_lite import get_mask\n",
    "import matplotlib.pyplot as plt\n",
    "\n",
    "input_wsi = \"/home/u1910100/Downloads/COLON (091H 07T)_Scan1.tiff\"\n",
    "save_dir = \"./output\"\n",
    "model_weight_path = \"tissue_masker_lite/model_weights/model_54.pth\"\n",
    "mask = get_mask(\n",
    "    wsi_path=input_wsi,\n",
    "    save_dir=save_dir,\n",
    "    model_weight=model_weight_path,\n",
    "    threshold=0.5,\n",
    "    cuda=True,\n",
    "    return_mask=True,\n",
    "    save_mask=False,\n",
    ")\n",
    "reader = WSIReader.open(input_wsi)\n",
    "print(reader.info.as_dict())\n",
    "thumbnail = reader.slide_thumbnail(resolution=1.25, units=\"power\")\n",
    "fig, axes = plt.subplots(1, 2)\n",
    "axes[0].imshow(thumbnail)\n",
    "axes[1].imshow(mask, cmap=\"gray\")\n",
    "plt.show()"
   ]
  },
  {
   "cell_type": "markdown",
   "metadata": {},
   "source": [
    "Tissue mask using tiatoolbox WSIReader.tissue_mask()"
   ]
  },
  {
   "cell_type": "code",
   "execution_count": null,
   "metadata": {},
   "outputs": [],
   "source": [
    "import numpy as np\n",
    "\n",
    "mask_old = reader.tissue_mask().slide_thumbnail()\n",
    "mask_old = np.where(mask_old >= 0.5, 1, 0)\n",
    "fig, axes = plt.subplots(1, 2)\n",
    "axes[0].imshow(thumbnail)\n",
    "axes[1].imshow(mask_old, cmap=\"gray\")\n",
    "plt.show()"
   ]
  },
  {
   "cell_type": "markdown",
   "metadata": {},
   "source": [
    "Tissue mask using tiatoolbox pretained fcn-tissue_mask model"
   ]
  },
  {
   "cell_type": "code",
   "execution_count": null,
   "metadata": {},
   "outputs": [],
   "source": [
    "from tiatoolbox.models.engine.semantic_segmentor import (\n",
    "    SemanticSegmentor,\n",
    "    IOSegmentorConfig,\n",
    ")\n",
    "import shutil\n",
    "\n",
    "tissue_segmentor = SemanticSegmentor(\n",
    "    pretrained_model=\"fcn-tissue_mask\",\n",
    "    num_loader_workers=1,\n",
    "    batch_size=1,\n",
    "    auto_generate_mask=False,\n",
    ")\n",
    "\n",
    "tissue_segmentor_config = IOSegmentorConfig(\n",
    "    input_resolutions=[{\"units\": \"mpp\", \"resolution\": 2}],\n",
    "    output_resolutions=[{\"units\": \"mpp\", \"resolution\": 2}],\n",
    "    patch_input_shape=[1024, 1024],\n",
    "    patch_output_shape=[512, 512],\n",
    "    stride_shape=[256, 256],\n",
    "    save_resolution={\"units\": \"mpp\", \"resolution\": 8},\n",
    ")\n",
    "\n",
    "\n",
    "wsi_path = input_wsi\n",
    "shutil.rmtree(\"tissue_masker_lite/sample_tile_results\", ignore_errors=True)\n",
    "output = tissue_segmentor.predict(\n",
    "    [wsi_path],\n",
    "    save_dir=\"sample_tile_results/\",\n",
    "    mode=\"wsi\",\n",
    "    ioconfig=tissue_segmentor_config,\n",
    "    on_gpu=True,\n",
    "    crash_on_exception=True,\n",
    ")\n",
    "\n",
    "wsi_prediction_raw = np.load(\n",
    "    \"tissue_masker_lite/sample_tile_results/0.raw.0.npy\",\n",
    ")  # Loading the first prediction [0] based on the output address [1]\n",
    "\n",
    "# Simple processing of the raw prediction to generate semantic segmentation task\n",
    "wsi_prediction = np.argmax(\n",
    "    wsi_prediction_raw,\n",
    "    axis=-1,\n",
    ")\n",
    "# [WSI overview extraction]\n",
    "# Now reading the WSI to extract it's overview\n",
    "wsi = WSIReader.open(wsi_path)\n",
    "\n",
    "# using the prediction save_resolution to create the wsi overview at the same resolution\n",
    "overview_info = tissue_segmentor_config.save_resolution\n",
    "\n",
    "# extracting slide overview using `slide_thumbnail` method\n",
    "wsi_overview = wsi.slide_thumbnail(\n",
    "    resolution=overview_info[\"resolution\"],\n",
    "    units=overview_info[\"units\"],\n",
    ")\n",
    "\n",
    "fig, axes = plt.subplots(1, 2)\n",
    "axes[0].imshow(wsi_overview)\n",
    "axes[1].imshow(wsi_prediction, cmap=\"gray\")\n",
    "plt.show()"
   ]
  }
 ],
 "metadata": {
  "kernelspec": {
   "display_name": "TIAToolBox",
   "language": "python",
   "name": "python3"
  },
  "language_info": {
   "codemirror_mode": {
    "name": "ipython",
    "version": 3
   },
   "file_extension": ".py",
   "mimetype": "text/x-python",
   "name": "python",
   "nbconvert_exporter": "python",
   "pygments_lexer": "ipython3",
   "version": "3.11.5"
  }
 },
 "nbformat": 4,
 "nbformat_minor": 2
}
