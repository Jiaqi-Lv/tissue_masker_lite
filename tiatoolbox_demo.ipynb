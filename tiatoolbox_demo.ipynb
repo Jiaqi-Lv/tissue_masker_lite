{
 "cells": [
  {
   "cell_type": "code",
   "execution_count": null,
   "metadata": {},
   "outputs": [],
   "source": [
    "from tiatoolbox.wsicore.wsireader import WSIReader\n",
    "from tissue_masker_lite import get_mask\n",
    "import matplotlib.pyplot as plt\n",
    "import numpy as np"
   ]
  },
  {
   "cell_type": "code",
   "execution_count": null,
   "metadata": {},
   "outputs": [],
   "source": [
    "#  Define path to input WSI\n",
    "input_wsi = \"/media/u1910100/data/NewCastle/slides/TUM4.svs\"\n",
    "# input_wsi = \"/Users/wildsquirrel/Library/CloudStorage/OneDrive-UniversityofWarwick/tissue_mask_demo_wsi/TCGA-08-0518-01Z-00-DX8.01f2c18c-09a8-4837-8619-62f1c9b82669.svs\""
   ]
  },
  {
   "cell_type": "markdown",
   "metadata": {},
   "source": [
    "# 1. Generate tissue mask using Tiatoolbox default method \"otsu\""
   ]
  },
  {
   "cell_type": "code",
   "execution_count": null,
   "metadata": {},
   "outputs": [],
   "source": [
    "reader = WSIReader.open(input_wsi)\n",
    "thumbnail = reader.slide_thumbnail(resolution=1.25, units=\"power\")\n",
    "mask_old = reader.tissue_mask(method=\"otsu\").slide_thumbnail()\n",
    "mask_old = np.where(mask_old >= 0.5, 1, 0)\n",
    "fig, axes = plt.subplots(1, 2, figsize=(16, 16))\n",
    "axes[0].imshow(thumbnail)\n",
    "axes[0].title.set_text(\"WSI\")\n",
    "axes[0].axis(\"off\")\n",
    "axes[1].imshow(mask_old, cmap=\"gray\")\n",
    "axes[1].title.set_text(\"Mask\")\n",
    "axes[1].axis(\"off\")\n",
    "plt.show()"
   ]
  },
  {
   "cell_type": "markdown",
   "metadata": {},
   "source": [
    "# 2. Generate tissue mask using Tiatoolbox method \"morphological\""
   ]
  },
  {
   "cell_type": "code",
   "execution_count": null,
   "metadata": {},
   "outputs": [],
   "source": [
    "reader = WSIReader.open(input_wsi)\n",
    "thumbnail = reader.slide_thumbnail(resolution=1.25, units=\"power\")\n",
    "mask_old = reader.tissue_mask(method=\"morphological\").slide_thumbnail()\n",
    "mask_old = np.where(mask_old >= 0.5, 1, 0)\n",
    "fig, axes = plt.subplots(1, 2, figsize=(16, 16))\n",
    "axes[0].imshow(thumbnail)\n",
    "axes[0].title.set_text(\"WSI\")\n",
    "axes[0].axis(\"off\")\n",
    "axes[1].imshow(mask_old, cmap=\"gray\")\n",
    "axes[1].title.set_text(\"Mask\")\n",
    "axes[1].axis(\"off\")\n",
    "plt.show()"
   ]
  },
  {
   "cell_type": "markdown",
   "metadata": {},
   "source": [
    "## 2. Generate tissue mask using our light weight model"
   ]
  },
  {
   "cell_type": "code",
   "execution_count": null,
   "metadata": {},
   "outputs": [],
   "source": [
    "save_dir = \"/media/u1910100/data/REACTVIS/prediction\"\n",
    "mask = get_mask(\n",
    "    wsi_path=input_wsi,\n",
    "    save_dir=save_dir,\n",
    "    threshold=0.5,\n",
    "    device=\"cuda\",\n",
    "    return_mask=True,\n",
    "    save_mask=True,\n",
    ")\n",
    "reader = WSIReader.open(input_wsi)\n",
    "print(reader.info.as_dict())\n",
    "thumbnail = reader.slide_thumbnail(resolution=1.25, units=\"power\")\n",
    "fig, axes = plt.subplots(1, 2, figsize=(16, 16))\n",
    "axes[0].imshow(thumbnail)\n",
    "axes[0].title.set_text(\"WSI\")\n",
    "axes[0].axis(\"off\")\n",
    "axes[1].imshow(mask, cmap=\"gray\")\n",
    "axes[1].title.set_text(\"Mask\")\n",
    "axes[1].axis(\"off\")\n",
    "plt.show()\n",
    "\n",
    "# save mask as png\n",
    "plt.imsave(f\"{save_dir}/HE_slide_mask.png\", mask, cmap=\"gray\", vmin=0, vmax=1)"
   ]
  },
  {
   "cell_type": "markdown",
   "metadata": {},
   "source": [
    "# 4. Generate tissue mask using tiatoolbox pretained model \"fcn-tissue_mask\""
   ]
  },
  {
   "cell_type": "code",
   "execution_count": null,
   "metadata": {},
   "outputs": [],
   "source": [
    "from tiatoolbox.models.engine.semantic_segmentor import (\n",
    "    SemanticSegmentor,\n",
    "    IOSegmentorConfig,\n",
    ")\n",
    "import shutil\n",
    "\n",
    "tissue_segmentor = SemanticSegmentor(\n",
    "    pretrained_model=\"fcn-tissue_mask\",\n",
    "    num_loader_workers=1,\n",
    "    batch_size=1,\n",
    "    auto_generate_mask=False,\n",
    ")\n",
    "\n",
    "tissue_segmentor_config = IOSegmentorConfig(\n",
    "    input_resolutions=[{\"units\": \"mpp\", \"resolution\": 2}],\n",
    "    output_resolutions=[{\"units\": \"mpp\", \"resolution\": 2}],\n",
    "    patch_input_shape=[1024, 1024],\n",
    "    patch_output_shape=[512, 512],\n",
    "    stride_shape=[256, 256],\n",
    "    save_resolution={\"units\": \"mpp\", \"resolution\": 8},\n",
    ")\n",
    "\n",
    "\n",
    "wsi_path = input_wsi\n",
    "shutil.rmtree(\"sample_tile_results/\", ignore_errors=True)\n",
    "output = tissue_segmentor.predict(\n",
    "    [wsi_path],\n",
    "    save_dir=\"sample_tile_results/\",\n",
    "    mode=\"wsi\",\n",
    "    ioconfig=tissue_segmentor_config,\n",
    "    device=\"cuda\",\n",
    "    crash_on_exception=True,\n",
    ")\n",
    "\n",
    "wsi_prediction_raw = np.load(\n",
    "    \"sample_tile_results/0.raw.0.npy\",\n",
    ")  # Loading the first prediction [0] based on the output address [1]\n",
    "\n",
    "# Simple processing of the raw prediction to generate semantic segmentation task\n",
    "wsi_prediction = np.argmax(\n",
    "    wsi_prediction_raw,\n",
    "    axis=-1,\n",
    ")\n",
    "# [WSI overview extraction]\n",
    "# Now reading the WSI to extract it's overview\n",
    "wsi = WSIReader.open(wsi_path)\n",
    "\n",
    "# using the prediction save_resolution to create the wsi overview at the same resolution\n",
    "overview_info = tissue_segmentor_config.save_resolution\n",
    "\n",
    "# extracting slide overview using `slide_thumbnail` method\n",
    "wsi_overview = wsi.slide_thumbnail(\n",
    "    resolution=overview_info[\"resolution\"],\n",
    "    units=overview_info[\"units\"],\n",
    ")\n",
    "\n",
    "fig, axes = plt.subplots(1, 2)\n",
    "axes[0].imshow(wsi_overview)\n",
    "axes[1].imshow(wsi_prediction, cmap=\"gray\")\n",
    "plt.show()"
   ]
  }
 ],
 "metadata": {
  "kernelspec": {
   "display_name": "tiatoolbox",
   "language": "python",
   "name": "python3"
  },
  "language_info": {
   "codemirror_mode": {
    "name": "ipython",
    "version": 3
   },
   "file_extension": ".py",
   "mimetype": "text/x-python",
   "name": "python",
   "nbconvert_exporter": "python",
   "pygments_lexer": "ipython3",
   "version": "3.12.2"
  }
 },
 "nbformat": 4,
 "nbformat_minor": 2
}
