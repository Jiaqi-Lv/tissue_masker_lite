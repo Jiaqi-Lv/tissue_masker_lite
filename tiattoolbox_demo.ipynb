{
 "cells": [
  {
   "cell_type": "code",
   "execution_count": null,
   "metadata": {},
   "outputs": [],
   "source": [
    "from tiatoolbox.wsicore.wsireader import WSIReader\n",
    "from tissue_masker_lite import get_mask\n",
    "import matplotlib.pyplot as plt"
   ]
  },
  {
   "cell_type": "code",
   "execution_count": null,
   "metadata": {},
   "outputs": [],
   "source": [
    "input_wsi = \"/home/u1910100/Documents/tcga/test/vis/slides/TCGA-A2-A0YK-01Z-00-DX1.FB23FC30-B3B2-452A-A6B0-94129B333207.svs\"\n",
    "save_dir = \"./output\"\n",
    "model_weight_path = \"tissue_masker_lite/model_weights/model_22.pth\"\n",
    "mask = get_mask(wsi_path=input_wsi,\n",
    "    save_dir=save_dir,\n",
    "    model_weight=model_weight_path,\n",
    "    threshold=0.5,\n",
    "    cuda=True,\n",
    "    return_mask=True)"
   ]
  },
  {
   "cell_type": "code",
   "execution_count": null,
   "metadata": {},
   "outputs": [],
   "source": [
    "reader = WSIReader.open(input_wsi)\n",
    "thumbnail = reader.slide_thumbnail(resolution=1.25, units=\"power\")\n",
    "plt.imshow(thumbnail)\n",
    "plt.show()\n",
    "plt.imshow(mask)\n",
    "plt.show()"
   ]
  },
  {
   "cell_type": "code",
   "execution_count": null,
   "metadata": {},
   "outputs": [],
   "source": []
  }
 ],
 "metadata": {
  "kernelspec": {
   "display_name": "TIAToolBox",
   "language": "python",
   "name": "python3"
  },
  "language_info": {
   "codemirror_mode": {
    "name": "ipython",
    "version": 3
   },
   "file_extension": ".py",
   "mimetype": "text/x-python",
   "name": "python",
   "nbconvert_exporter": "python",
   "pygments_lexer": "ipython3",
   "version": "3.11.5"
  }
 },
 "nbformat": 4,
 "nbformat_minor": 2
}
